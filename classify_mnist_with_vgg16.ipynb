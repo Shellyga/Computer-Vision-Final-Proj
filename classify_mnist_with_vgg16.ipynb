{
  "nbformat": 4,
  "nbformat_minor": 0,
  "metadata": {
    "kernelspec": {
      "display_name": "Python 3",
      "language": "python",
      "name": "python3"
    },
    "language_info": {
      "name": "python",
      "version": "3.6.4",
      "mimetype": "text/x-python",
      "codemirror_mode": {
        "name": "ipython",
        "version": 3
      },
      "pygments_lexer": "ipython3",
      "nbconvert_exporter": "python",
      "file_extension": ".py"
    },
    "colab": {
      "name": "classify-mnist-with-vgg16.ipynb",
      "provenance": [],
      "collapsed_sections": [],
      "toc_visible": true,
      "include_colab_link": true
    }
  },
  "cells": [
    {
      "cell_type": "markdown",
      "metadata": {
        "id": "view-in-github",
        "colab_type": "text"
      },
      "source": [
        "<a href=\"https://colab.research.google.com/github/Shellyga/Computer-Vision-Final-Proj/blob/master/classify_mnist_with_vgg16.ipynb\" target=\"_parent\"><img src=\"https://colab.research.google.com/assets/colab-badge.svg\" alt=\"Open In Colab\"/></a>"
      ]
    },
    {
      "cell_type": "markdown",
      "metadata": {
        "_cell_guid": "0fd216d4-dd9f-4c8f-9292-df9aa7c17aca",
        "_uuid": "1c70132a25ea771c9caaa6b9dbfd2d65955be21d",
        "id": "Xd6BP0_2RGoj",
        "colab_type": "text"
      },
      "source": [
        "**Experimentation on Fashion Mnist with VGG16**\n",
        "To demonstrate\n",
        "1) Converting images with 1 channel to 3 channels\n",
        "2) Resizing the images\n",
        "3) Using VGG16 base model, appending with other layers and extracting features\n",
        "4) Reduce learning, early stopping in callback methods"
      ]
    },
    {
      "cell_type": "code",
      "metadata": {
        "_cell_guid": "b1076dfc-b9ad-4769-8c92-a6c4dae69d19",
        "_uuid": "8f2839f25d086af736a60e9eeb907d3b93b6e0e5",
        "trusted": true,
        "id": "zEmF2Qd2RGom",
        "colab_type": "code",
        "colab": {
          "base_uri": "https://localhost:8080/",
          "height": 35
        },
        "outputId": "11fe225b-991e-4801-ad23-9e868d2093ef"
      },
      "source": [
        "import numpy as np # linear algebra\n",
        "import pandas as pd # data processing, CSV file I/O (e.g. pd.read_csv)\n",
        "import os, time\n",
        "import matplotlib.pyplot as plt\n",
        "#from keras.datasets import fashion_mnist\n",
        "from sklearn.model_selection import train_test_split\n",
        "import keras\n",
        "from keras.utils import to_categorical\n",
        "from keras.models import Sequential\n",
        "from keras.layers import Conv2D, MaxPooling2D\n",
        "from keras.layers import Dense, Dropout, Flatten\n",
        "#from keras.layers.advanced_activations import LeakyReLU\n",
        "from keras.preprocessing.image import ImageDataGenerator\n",
        "from keras.applications import VGG16;\n",
        "from keras.applications.vgg16 import preprocess_input\n",
        "import os"
      ],
      "execution_count": 1,
      "outputs": [
        {
          "output_type": "stream",
          "text": [
            "Using TensorFlow backend.\n"
          ],
          "name": "stderr"
        }
      ]
    },
    {
      "cell_type": "markdown",
      "metadata": {
        "id": "WFyX3bR0YdYT",
        "colab_type": "text"
      },
      "source": [
        "# Mnist feature extractor with VGG16"
      ]
    },
    {
      "cell_type": "code",
      "metadata": {
        "id": "Srr5ZPfEYljF",
        "colab_type": "code",
        "colab": {
          "base_uri": "https://localhost:8080/",
          "height": 54
        },
        "outputId": "8e9a2880-6498-4bfd-b035-b8fe51ff086e"
      },
      "source": [
        "mnist = keras.datasets.mnist\n",
        "\n",
        "\n",
        "def get_2_labels(first_digit, second_digit):\n",
        "    (x_train, y_train),(x_test, y_test) = mnist.load_data()\n",
        "\n",
        "    # x_train = (x_train / 255.0 * 2 - 1).reshape(x_train.shape[0], -1)\n",
        "    # x_test = (x_test / 255.0 * 2 - 1).reshape(x_test.shape[0], -1)\n",
        "\n",
        "    train_images = np.logical_or((y_train == first_digit), (y_train == second_digit))\n",
        "    test_images = np.logical_or((y_test == first_digit), (y_test == second_digit))\n",
        "    return x_train[train_images], y_train[train_images], x_test[test_images], y_test[test_images]\n",
        "\n",
        "\n",
        "train_X, train_Y, test_X, test_Y = get_2_labels(0, 1)\n",
        "\n"
      ],
      "execution_count": 3,
      "outputs": [
        {
          "output_type": "stream",
          "text": [
            "Downloading data from https://s3.amazonaws.com/img-datasets/mnist.npz\n",
            "11493376/11490434 [==============================] - 0s 0us/step\n"
          ],
          "name": "stdout"
        }
      ]
    },
    {
      "cell_type": "code",
      "metadata": {
        "_uuid": "b1878c711627e46e0dc24cc9d1c886d87f2481bd",
        "_cell_guid": "90e0b7cd-4941-45e6-9cc5-35966a649a7a",
        "trusted": true,
        "id": "5tFFPK_7RGo8",
        "colab_type": "code",
        "colab": {
          "base_uri": "https://localhost:8080/",
          "height": 35
        },
        "outputId": "33501646-425d-4c16-a22f-6c92375c5c22"
      },
      "source": [
        "classes = np.unique(train_Y)\n",
        "num_classes = len(classes)\n",
        "num_classes"
      ],
      "execution_count": 4,
      "outputs": [
        {
          "output_type": "execute_result",
          "data": {
            "text/plain": [
              "2"
            ]
          },
          "metadata": {
            "tags": []
          },
          "execution_count": 4
        }
      ]
    },
    {
      "cell_type": "code",
      "metadata": {
        "_cell_guid": "65f644bd-0d53-4f93-9d56-44e5ee362124",
        "_uuid": "36b3aa039739b9465903682b38a911cb5550ebd7",
        "trusted": true,
        "id": "Ce3eIB5vRGpA",
        "colab_type": "code",
        "colab": {
          "base_uri": "https://localhost:8080/",
          "height": 35
        },
        "outputId": "e55c2b07-b852-4605-a083-d25be5a704e3"
      },
      "source": [
        "# Convert the images into 3 channels\n",
        "train_X=np.dstack([train_X] * 3)\n",
        "test_X=np.dstack([test_X]*3)\n",
        "train_X.shape,test_X.shape"
      ],
      "execution_count": 5,
      "outputs": [
        {
          "output_type": "execute_result",
          "data": {
            "text/plain": [
              "((12665, 28, 84), (2115, 28, 84))"
            ]
          },
          "metadata": {
            "tags": []
          },
          "execution_count": 5
        }
      ]
    },
    {
      "cell_type": "code",
      "metadata": {
        "_cell_guid": "881b27ff-55a1-47f5-b814-e6e269b0c841",
        "_uuid": "18a5d76e99531a6807c561ee8e4d75f0d726d78f",
        "trusted": true,
        "id": "YFuWX-bvRGpH",
        "colab_type": "code",
        "colab": {
          "base_uri": "https://localhost:8080/",
          "height": 35
        },
        "outputId": "e28848f9-2f1c-489e-ebf6-2311033ab365"
      },
      "source": [
        "# Reshape images as per the tensor format required by tensorflow\n",
        "train_X = train_X.reshape(-1, 28,28,3)\n",
        "test_X= test_X.reshape (-1,28,28,3)\n",
        "train_X.shape,test_X.shape"
      ],
      "execution_count": 6,
      "outputs": [
        {
          "output_type": "execute_result",
          "data": {
            "text/plain": [
              "((12665, 28, 28, 3), (2115, 28, 28, 3))"
            ]
          },
          "metadata": {
            "tags": []
          },
          "execution_count": 6
        }
      ]
    },
    {
      "cell_type": "code",
      "metadata": {
        "_uuid": "0fe00caac550a34af0076645c5fa0fa64b2908cc",
        "_cell_guid": "088dd0e5-b28c-4d44-b7f1-ad972ec93f8b",
        "trusted": true,
        "id": "_AwQjgJPRGpK",
        "colab_type": "code",
        "colab": {
          "base_uri": "https://localhost:8080/",
          "height": 35
        },
        "outputId": "68c93d11-dc6d-42b1-f2a4-1353753c12ef"
      },
      "source": [
        "# Resize the images 48*48 as required by VGG16\n",
        "from keras.preprocessing.image import img_to_array, array_to_img\n",
        "train_X = np.asarray([img_to_array(array_to_img(im, scale=False).resize((48,48))) for im in train_X])\n",
        "test_X = np.asarray([img_to_array(array_to_img(im, scale=False).resize((48,48))) for im in test_X])\n",
        "#train_x = preprocess_input(x)\n",
        "train_X.shape, test_X.shape"
      ],
      "execution_count": 7,
      "outputs": [
        {
          "output_type": "execute_result",
          "data": {
            "text/plain": [
              "((12665, 48, 48, 3), (2115, 48, 48, 3))"
            ]
          },
          "metadata": {
            "tags": []
          },
          "execution_count": 7
        }
      ]
    },
    {
      "cell_type": "code",
      "metadata": {
        "_uuid": "7bf156c69f540216d0e7b5de3e7b0ad50592099d",
        "_cell_guid": "b7f7e12c-01ce-47e5-95bd-069cb89c9258",
        "trusted": true,
        "id": "-ldveaMsRGpO",
        "colab_type": "code",
        "colab": {}
      },
      "source": [
        "# Normalise the data and change data type\n",
        "train_X = train_X / 255.\n",
        "test_X = test_X / 255.\n",
        "train_X = train_X.astype('float32')\n",
        "test_X = test_X.astype('float32')"
      ],
      "execution_count": 8,
      "outputs": []
    },
    {
      "cell_type": "code",
      "metadata": {
        "_uuid": "6a11e96346d7ff14c5614375ab9237809f4750fd",
        "_cell_guid": "f2632a1e-c62b-43ca-8417-3dd16176d6a3",
        "trusted": true,
        "id": "i3nZqEiqRGpR",
        "colab_type": "code",
        "colab": {}
      },
      "source": [
        "# Converting Labels to one hot encoded format\n",
        "train_Y_one_hot = to_categorical(train_Y)\n",
        "test_Y_one_hot = to_categorical(test_Y)"
      ],
      "execution_count": 10,
      "outputs": []
    },
    {
      "cell_type": "code",
      "metadata": {
        "_uuid": "e83f7fb410d318f63141efd5318c4b7ea06c925a",
        "_cell_guid": "854ef9e9-4fac-4021-8742-258bbc64f7d7",
        "trusted": true,
        "id": "QVaPyorZRGpV",
        "colab_type": "code",
        "colab": {}
      },
      "source": [
        "# Splitting train data as train and validation data\n",
        "train_X,valid_X,train_label,valid_label = train_test_split(train_X,\n",
        "                                                           train_Y_one_hot,\n",
        "                                                           test_size=0.2,\n",
        "                                                           random_state=13\n",
        "                                                           )"
      ],
      "execution_count": 11,
      "outputs": []
    },
    {
      "cell_type": "code",
      "metadata": {
        "_uuid": "30c531675abd917e1aff9c7174000a8da61c8e9a",
        "_cell_guid": "533aef5c-ea10-46f8-8678-ae8466c61358",
        "trusted": true,
        "id": "basnRFVVRGpY",
        "colab_type": "code",
        "colab": {
          "base_uri": "https://localhost:8080/",
          "height": 35
        },
        "outputId": "624e8367-e612-47dc-80e7-aa6e8d1c1d45"
      },
      "source": [
        "# Finally check the data size whether it is as per tensorflow and VGG16 requirement\n",
        "train_X.shape,valid_X.shape,train_label.shape,valid_label.shape"
      ],
      "execution_count": 12,
      "outputs": [
        {
          "output_type": "execute_result",
          "data": {
            "text/plain": [
              "((10132, 48, 48, 3), (2533, 48, 48, 3), (10132, 2), (2533, 2))"
            ]
          },
          "metadata": {
            "tags": []
          },
          "execution_count": 12
        }
      ]
    },
    {
      "cell_type": "code",
      "metadata": {
        "_uuid": "113ac9912ec68548ab6c9663d2a268b341d19318",
        "_cell_guid": "b9a862b8-83a7-4920-9662-4e7d5b06fa2a",
        "trusted": true,
        "id": "n4p1tNuqRGpb",
        "colab_type": "code",
        "colab": {}
      },
      "source": [
        "# Define the parameters for instanitaing VGG16 model. \n",
        "IMG_WIDTH = 48\n",
        "IMG_HEIGHT = 48\n",
        "IMG_DEPTH = 3\n",
        "BATCH_SIZE = 16"
      ],
      "execution_count": 13,
      "outputs": []
    },
    {
      "cell_type": "code",
      "metadata": {
        "_uuid": "1efa26a809251bb45f142337617313b8a8b0257c",
        "_cell_guid": "502df777-d9c5-4a15-9928-c40930a786a7",
        "trusted": true,
        "id": "ucn5KSDiRGpj",
        "colab_type": "code",
        "colab": {}
      },
      "source": [
        "# Preprocessing the input \n",
        "train_X = preprocess_input(train_X)\n",
        "valid_X = preprocess_input(valid_X)\n",
        "test_X  = preprocess_input (test_X)"
      ],
      "execution_count": 14,
      "outputs": []
    },
    {
      "cell_type": "code",
      "metadata": {
        "_uuid": "3b3f38f3d269f4ee886e7617f9aafe6b2dae6896",
        "_cell_guid": "229322c0-79c7-499c-b8f5-7eafd8fd45da",
        "trusted": true,
        "id": "dR8EBk-vRGpm",
        "colab_type": "code",
        "colab": {
          "base_uri": "https://localhost:8080/",
          "height": 910
        },
        "outputId": "72a0b293-9655-454d-8f08-253d7ec4fdf6"
      },
      "source": [
        "#  Create base model of VGG16\n",
        "conv_base = VGG16(weights='imagenet',\n",
        "                  include_top=False, \n",
        "                  input_shape=(IMG_HEIGHT, IMG_WIDTH, IMG_DEPTH)\n",
        "                 )\n",
        "conv_base.summary()"
      ],
      "execution_count": 15,
      "outputs": [
        {
          "output_type": "stream",
          "text": [
            "Downloading data from https://github.com/fchollet/deep-learning-models/releases/download/v0.1/vgg16_weights_tf_dim_ordering_tf_kernels_notop.h5\n",
            "58892288/58889256 [==============================] - 1s 0us/step\n",
            "Model: \"vgg16\"\n",
            "_________________________________________________________________\n",
            "Layer (type)                 Output Shape              Param #   \n",
            "=================================================================\n",
            "input_1 (InputLayer)         (None, 48, 48, 3)         0         \n",
            "_________________________________________________________________\n",
            "block1_conv1 (Conv2D)        (None, 48, 48, 64)        1792      \n",
            "_________________________________________________________________\n",
            "block1_conv2 (Conv2D)        (None, 48, 48, 64)        36928     \n",
            "_________________________________________________________________\n",
            "block1_pool (MaxPooling2D)   (None, 24, 24, 64)        0         \n",
            "_________________________________________________________________\n",
            "block2_conv1 (Conv2D)        (None, 24, 24, 128)       73856     \n",
            "_________________________________________________________________\n",
            "block2_conv2 (Conv2D)        (None, 24, 24, 128)       147584    \n",
            "_________________________________________________________________\n",
            "block2_pool (MaxPooling2D)   (None, 12, 12, 128)       0         \n",
            "_________________________________________________________________\n",
            "block3_conv1 (Conv2D)        (None, 12, 12, 256)       295168    \n",
            "_________________________________________________________________\n",
            "block3_conv2 (Conv2D)        (None, 12, 12, 256)       590080    \n",
            "_________________________________________________________________\n",
            "block3_conv3 (Conv2D)        (None, 12, 12, 256)       590080    \n",
            "_________________________________________________________________\n",
            "block3_pool (MaxPooling2D)   (None, 6, 6, 256)         0         \n",
            "_________________________________________________________________\n",
            "block4_conv1 (Conv2D)        (None, 6, 6, 512)         1180160   \n",
            "_________________________________________________________________\n",
            "block4_conv2 (Conv2D)        (None, 6, 6, 512)         2359808   \n",
            "_________________________________________________________________\n",
            "block4_conv3 (Conv2D)        (None, 6, 6, 512)         2359808   \n",
            "_________________________________________________________________\n",
            "block4_pool (MaxPooling2D)   (None, 3, 3, 512)         0         \n",
            "_________________________________________________________________\n",
            "block5_conv1 (Conv2D)        (None, 3, 3, 512)         2359808   \n",
            "_________________________________________________________________\n",
            "block5_conv2 (Conv2D)        (None, 3, 3, 512)         2359808   \n",
            "_________________________________________________________________\n",
            "block5_conv3 (Conv2D)        (None, 3, 3, 512)         2359808   \n",
            "_________________________________________________________________\n",
            "block5_pool (MaxPooling2D)   (None, 1, 1, 512)         0         \n",
            "=================================================================\n",
            "Total params: 14,714,688\n",
            "Trainable params: 14,714,688\n",
            "Non-trainable params: 0\n",
            "_________________________________________________________________\n"
          ],
          "name": "stdout"
        }
      ]
    },
    {
      "cell_type": "code",
      "metadata": {
        "_cell_guid": "aaa03ae6-b327-4155-bb3f-bc276cfc5f79",
        "_uuid": "3303dec8034ae9001f6bbfd172772c3763c0ca95",
        "trusted": true,
        "id": "4iZ7cXapRGpp",
        "colab_type": "code",
        "colab": {
          "base_uri": "https://localhost:8080/",
          "height": 72
        },
        "outputId": "32e75908-94c9-4d19-ea18-3e17c71fe81e"
      },
      "source": [
        "# Extracting features\n",
        "train_features = conv_base.predict(np.array(train_X), batch_size=BATCH_SIZE, verbose=1)\n",
        "test_features = conv_base.predict(np.array(test_X), batch_size=BATCH_SIZE, verbose=1)\n",
        "val_features = conv_base.predict(np.array(valid_X), batch_size=BATCH_SIZE, verbose=1)\n"
      ],
      "execution_count": 16,
      "outputs": [
        {
          "output_type": "stream",
          "text": [
            "10132/10132 [==============================] - 240s 24ms/step\n",
            "2115/2115 [==============================] - 50s 24ms/step\n",
            "2533/2533 [==============================] - 60s 24ms/step\n"
          ],
          "name": "stdout"
        }
      ]
    },
    {
      "cell_type": "code",
      "metadata": {
        "_uuid": "edd015a505d1088b0aacc5f7ee5434cfa40929ef",
        "_cell_guid": "ca1c5a1a-c870-4c5a-a086-77aaa1934f28",
        "trusted": true,
        "id": "lNz9Xo73RGpt",
        "colab_type": "code",
        "colab": {}
      },
      "source": [
        "# 6.1 Saving the features so that they can be used for future\n",
        "np.savez(\"train_features\", train_features, train_label)\n",
        "np.savez(\"test_features\", test_features, test_Y)\n",
        "np.savez(\"val_features\", val_features, valid_label)"
      ],
      "execution_count": null,
      "outputs": []
    },
    {
      "cell_type": "code",
      "metadata": {
        "_cell_guid": "06ee60c6-d892-47c9-a29e-498a9a8e6888",
        "_uuid": "afc55e2793e4c9c14330bbe3d2b17c98ff680843",
        "trusted": true,
        "id": "YszBrlloRGpx",
        "colab_type": "code",
        "colab": {
          "base_uri": "https://localhost:8080/",
          "height": 72
        },
        "outputId": "1cbcd901-0fa3-4945-f499-af8a1c97f1f2"
      },
      "source": [
        "# Current shape of features\n",
        "print(train_features.shape, \"\\n\",  test_features.shape, \"\\n\", val_features.shape)"
      ],
      "execution_count": null,
      "outputs": [
        {
          "output_type": "stream",
          "text": [
            "(10132, 1, 1, 512) \n",
            " (2115, 1, 1, 512) \n",
            " (2533, 1, 1, 512)\n"
          ],
          "name": "stdout"
        }
      ]
    },
    {
      "cell_type": "code",
      "metadata": {
        "_uuid": "e8e7f72c0d7a6702c8e68b68ad050d81f052e14d",
        "_cell_guid": "da226aa2-e159-4426-9e11-624b109599ae",
        "trusted": true,
        "id": "CFhZ-bISRGp0",
        "colab_type": "code",
        "colab": {}
      },
      "source": [
        "# Flatten extracted features\n",
        "train_features_flat = np.reshape(train_features, (10132, 1*1*512))\n",
        "test_features_flat = np.reshape(test_features, (2115, 1*1*512))\n",
        "val_features_flat = np.reshape(val_features, (2533, 1*1*512))"
      ],
      "execution_count": 17,
      "outputs": []
    },
    {
      "cell_type": "markdown",
      "metadata": {
        "id": "HI4y3Mp8iA7c",
        "colab_type": "text"
      },
      "source": [
        "# Classify with NN"
      ]
    },
    {
      "cell_type": "code",
      "metadata": {
        "trusted": true,
        "_uuid": "3fae918d3a48e24cbf3de5190f5c0616d13d696c",
        "id": "lNtsSRroRGp4",
        "colab_type": "code",
        "colab": {}
      },
      "source": [
        "from keras import models\n",
        "from keras.models import Model\n",
        "from keras import layers\n",
        "from keras import optimizers\n",
        "from keras import callbacks\n",
        "from keras.layers.advanced_activations import LeakyReLU"
      ],
      "execution_count": null,
      "outputs": []
    },
    {
      "cell_type": "code",
      "metadata": {
        "_cell_guid": "f4ca32f8-2a43-453c-838e-efcb89b21df2",
        "_uuid": "4bf35298843795507b757fbcbe2b056f2f51e4b8",
        "trusted": true,
        "id": "ozEFx3qhRGp6",
        "colab_type": "code",
        "colab": {}
      },
      "source": [
        "# 7.0 Define the densely connected classifier followed by leakyrelu layer and finally dense layer for the number of classes\n",
        "NB_TRAIN_SAMPLES = train_features_flat.shape[0]\n",
        "NB_VALIDATION_SAMPLES = val_features_flat.shape[0]\n",
        "NB_EPOCHS = 100\n",
        "\n",
        "model = models.Sequential()\n",
        "model.add(layers.Dense(512, activation='relu', input_dim=(1*1*512)))\n",
        "model.add(layers.LeakyReLU(alpha=0.1))\n",
        "model.add(layers.Dense(num_classes, activation='softmax'))"
      ],
      "execution_count": null,
      "outputs": []
    },
    {
      "cell_type": "code",
      "metadata": {
        "_uuid": "c22c87623f160988f1aa302bfe76c79c1c08aaba",
        "_cell_guid": "c9c315be-b7c7-484d-9add-0a3aeea4cd14",
        "trusted": true,
        "id": "K09Q1tSpRGp-",
        "colab_type": "code",
        "colab": {}
      },
      "source": [
        "# Compile the model.\n",
        "model.compile(\n",
        "    loss='categorical_crossentropy',\n",
        "    optimizer=optimizers.Adam(),\n",
        "  # optimizer=optimizers.RMSprop(lr=2e-5),\n",
        "    metrics=['acc'])"
      ],
      "execution_count": null,
      "outputs": []
    },
    {
      "cell_type": "code",
      "metadata": {
        "_cell_guid": "77267b8d-0cb3-47df-8aeb-abfc715cdccb",
        "_uuid": "620794510507d763cbdbec85cf88bc74a38c689c",
        "trusted": true,
        "id": "2uSPEcuxRGqD",
        "colab_type": "code",
        "colab": {
          "base_uri": "https://localhost:8080/",
          "height": 74
        },
        "outputId": "8f67c946-fb18-4298-a16c-6b83567bda33"
      },
      "source": [
        "# Incorporating reduced learning and early stopping for callback\n",
        "reduce_learning = callbacks.ReduceLROnPlateau(\n",
        "    monitor='val_loss',\n",
        "    factor=0.2,\n",
        "    patience=2,\n",
        "    verbose=1,\n",
        "    mode='auto',\n",
        "    epsilon=0.0001,\n",
        "    cooldown=2,\n",
        "    min_lr=0)\n",
        "\n",
        "eary_stopping = callbacks.EarlyStopping(\n",
        "    monitor='val_loss',\n",
        "    min_delta=0,\n",
        "    patience=7,\n",
        "    verbose=1,\n",
        "    mode='auto')\n",
        "\n",
        "callbacks = [reduce_learning, eary_stopping]"
      ],
      "execution_count": null,
      "outputs": [
        {
          "output_type": "stream",
          "text": [
            "/usr/local/lib/python3.6/dist-packages/keras/callbacks/callbacks.py:998: UserWarning: `epsilon` argument is deprecated and will be removed, use `min_delta` instead.\n",
            "  warnings.warn('`epsilon` argument is deprecated and '\n"
          ],
          "name": "stderr"
        }
      ]
    },
    {
      "cell_type": "code",
      "metadata": {
        "_uuid": "fa421c86f8429c230970142425f236a0e6affb1b",
        "_cell_guid": "111c53bc-3f72-426e-abfb-a902d8aa1933",
        "trusted": true,
        "id": "J3qySkf_RGqH",
        "colab_type": "code",
        "colab": {
          "base_uri": "https://localhost:8080/",
          "height": 1000
        },
        "outputId": "35e833b8-3dcf-43db-a139-e43ff623886c"
      },
      "source": [
        "# Train the the model\n",
        "history = model.fit(\n",
        "    train_features_flat,\n",
        "    train_label,\n",
        "    epochs=NB_EPOCHS,\n",
        "    validation_data=(val_features_flat, valid_label),\n",
        "    callbacks=callbacks\n",
        ")"
      ],
      "execution_count": null,
      "outputs": [
        {
          "output_type": "stream",
          "text": [
            "Train on 10132 samples, validate on 2533 samples\n",
            "Epoch 1/100\n",
            "10132/10132 [==============================] - 2s 195us/step - loss: 0.1711 - acc: 0.9433 - val_loss: 0.0923 - val_acc: 0.9771\n",
            "Epoch 2/100\n",
            "10132/10132 [==============================] - 2s 169us/step - loss: 0.0976 - acc: 0.9767 - val_loss: 0.1172 - val_acc: 0.9783\n",
            "Epoch 3/100\n",
            "10132/10132 [==============================] - 2s 175us/step - loss: 0.0896 - acc: 0.9777 - val_loss: 0.0743 - val_acc: 0.9783\n",
            "Epoch 4/100\n",
            "10132/10132 [==============================] - 2s 170us/step - loss: 0.0847 - acc: 0.9795 - val_loss: 0.0986 - val_acc: 0.9830\n",
            "Epoch 5/100\n",
            "10132/10132 [==============================] - 2s 175us/step - loss: 0.0737 - acc: 0.9804 - val_loss: 0.0538 - val_acc: 0.9838\n",
            "Epoch 6/100\n",
            "10132/10132 [==============================] - 2s 174us/step - loss: 0.0671 - acc: 0.9824 - val_loss: 0.0615 - val_acc: 0.9830\n",
            "Epoch 7/100\n",
            "10132/10132 [==============================] - 2s 173us/step - loss: 0.0630 - acc: 0.9822 - val_loss: 0.0512 - val_acc: 0.9866\n",
            "Epoch 8/100\n",
            "10132/10132 [==============================] - 2s 174us/step - loss: 0.0560 - acc: 0.9828 - val_loss: 0.0988 - val_acc: 0.9814\n",
            "Epoch 9/100\n",
            "10132/10132 [==============================] - 2s 175us/step - loss: 0.0566 - acc: 0.9831 - val_loss: 0.0372 - val_acc: 0.9854\n",
            "Epoch 10/100\n",
            "10132/10132 [==============================] - 2s 175us/step - loss: 0.0493 - acc: 0.9846 - val_loss: 0.0386 - val_acc: 0.9913\n",
            "Epoch 11/100\n",
            "10132/10132 [==============================] - 2s 169us/step - loss: 0.0443 - acc: 0.9856 - val_loss: 0.0566 - val_acc: 0.9858\n",
            "\n",
            "Epoch 00011: ReduceLROnPlateau reducing learning rate to 0.00020000000949949026.\n",
            "Epoch 12/100\n",
            "10132/10132 [==============================] - 2s 175us/step - loss: 0.0338 - acc: 0.9885 - val_loss: 0.0300 - val_acc: 0.9866\n",
            "Epoch 13/100\n",
            "10132/10132 [==============================] - 2s 171us/step - loss: 0.0346 - acc: 0.9868 - val_loss: 0.0312 - val_acc: 0.9858\n",
            "Epoch 14/100\n",
            "10132/10132 [==============================] - 2s 170us/step - loss: 0.0328 - acc: 0.9886 - val_loss: 0.0283 - val_acc: 0.9878\n",
            "Epoch 15/100\n",
            "10132/10132 [==============================] - 2s 176us/step - loss: 0.0344 - acc: 0.9880 - val_loss: 0.0263 - val_acc: 0.9905\n",
            "Epoch 16/100\n",
            "10132/10132 [==============================] - 2s 172us/step - loss: 0.0331 - acc: 0.9881 - val_loss: 0.0269 - val_acc: 0.9889\n",
            "Epoch 17/100\n",
            "10132/10132 [==============================] - 2s 171us/step - loss: 0.0311 - acc: 0.9892 - val_loss: 0.0271 - val_acc: 0.9886\n",
            "\n",
            "Epoch 00017: ReduceLROnPlateau reducing learning rate to 4.0000001899898055e-05.\n",
            "Epoch 18/100\n",
            "10132/10132 [==============================] - 2s 173us/step - loss: 0.0288 - acc: 0.9896 - val_loss: 0.0268 - val_acc: 0.9889\n",
            "Epoch 19/100\n",
            "10132/10132 [==============================] - 2s 172us/step - loss: 0.0287 - acc: 0.9889 - val_loss: 0.0248 - val_acc: 0.9913\n",
            "Epoch 20/100\n",
            "10132/10132 [==============================] - 2s 173us/step - loss: 0.0279 - acc: 0.9892 - val_loss: 0.0263 - val_acc: 0.9897\n",
            "Epoch 21/100\n",
            "10132/10132 [==============================] - 2s 177us/step - loss: 0.0283 - acc: 0.9899 - val_loss: 0.0250 - val_acc: 0.9897\n",
            "\n",
            "Epoch 00021: ReduceLROnPlateau reducing learning rate to 8.000000525498762e-06.\n",
            "Epoch 22/100\n",
            "10132/10132 [==============================] - 2s 174us/step - loss: 0.0278 - acc: 0.9899 - val_loss: 0.0248 - val_acc: 0.9909\n",
            "Epoch 23/100\n",
            "10132/10132 [==============================] - 2s 171us/step - loss: 0.0276 - acc: 0.9897 - val_loss: 0.0255 - val_acc: 0.9893\n",
            "Epoch 24/100\n",
            "10132/10132 [==============================] - 2s 176us/step - loss: 0.0278 - acc: 0.9897 - val_loss: 0.0247 - val_acc: 0.9909\n",
            "Epoch 25/100\n",
            "10132/10132 [==============================] - 2s 173us/step - loss: 0.0277 - acc: 0.9899 - val_loss: 0.0246 - val_acc: 0.9913\n",
            "Epoch 26/100\n",
            "10132/10132 [==============================] - 2s 168us/step - loss: 0.0276 - acc: 0.9895 - val_loss: 0.0254 - val_acc: 0.9893\n",
            "Epoch 27/100\n",
            "10132/10132 [==============================] - 2s 187us/step - loss: 0.0276 - acc: 0.9897 - val_loss: 0.0255 - val_acc: 0.9893\n",
            "\n",
            "Epoch 00027: ReduceLROnPlateau reducing learning rate to 1.6000001778593287e-06.\n",
            "Epoch 28/100\n",
            "10132/10132 [==============================] - 2s 176us/step - loss: 0.0275 - acc: 0.9897 - val_loss: 0.0248 - val_acc: 0.9909\n",
            "Epoch 29/100\n",
            "10132/10132 [==============================] - 2s 172us/step - loss: 0.0274 - acc: 0.9896 - val_loss: 0.0248 - val_acc: 0.9909\n",
            "Epoch 30/100\n",
            "10132/10132 [==============================] - 2s 178us/step - loss: 0.0274 - acc: 0.9897 - val_loss: 0.0247 - val_acc: 0.9909\n",
            "\n",
            "Epoch 00030: ReduceLROnPlateau reducing learning rate to 3.200000264769187e-07.\n",
            "Epoch 31/100\n",
            "10132/10132 [==============================] - 2s 172us/step - loss: 0.0274 - acc: 0.9897 - val_loss: 0.0247 - val_acc: 0.9909\n",
            "Epoch 32/100\n",
            "10132/10132 [==============================] - 2s 171us/step - loss: 0.0274 - acc: 0.9897 - val_loss: 0.0247 - val_acc: 0.9909\n",
            "Epoch 00032: early stopping\n"
          ],
          "name": "stdout"
        }
      ]
    },
    {
      "cell_type": "code",
      "metadata": {
        "_uuid": "f9eb383670f32c4c8a4cc5ca3d4b5e8174f924e8",
        "_cell_guid": "098cc9db-404e-4125-9b0a-3b30875cc79a",
        "trusted": true,
        "id": "ko50bynPRGqL",
        "colab_type": "code",
        "colab": {
          "base_uri": "https://localhost:8080/",
          "height": 545
        },
        "outputId": "ab5e5d95-6607-4b88-c148-90bde6c5391f"
      },
      "source": [
        "# plot the loss and accuracy\n",
        "\n",
        "acc = history.history['acc']\n",
        "val_acc = history.history['val_acc']\n",
        "loss = history.history['loss']\n",
        "val_loss = history.history['val_loss']\n",
        "epochs = range(1, len(acc) + 1)\n",
        "\n",
        "plt.title('Training and validation accuracy')\n",
        "plt.plot(epochs, acc, 'red', label='Training acc')\n",
        "plt.plot(epochs, val_acc, 'blue', label='Validation acc')\n",
        "plt.legend()\n",
        "\n",
        "plt.figure()\n",
        "plt.title('Training and validation loss')\n",
        "plt.plot(epochs, loss, 'red', label='Training loss')\n",
        "plt.plot(epochs, val_loss, 'blue', label='Validation loss')\n",
        "\n",
        "plt.legend()\n",
        "\n",
        "plt.show()\n"
      ],
      "execution_count": null,
      "outputs": [
        {
          "output_type": "display_data",
          "data": {
            "image/png": "[encoded data removed]",
            "text/plain": [
              "<Figure size 432x288 with 1 Axes>"
            ]
          },
          "metadata": {
            "tags": [],
            "needs_background": "light"
          }
        },
        {
          "output_type": "display_data",
          "data": {
            "image/png": "[encoded data removed]",
            "text/plain": [
              "<Figure size 432x288 with 1 Axes>"
            ]
          },
          "metadata": {
            "tags": [],
            "needs_background": "light"
          }
        }
      ]
    },
    {
      "cell_type": "markdown",
      "metadata": {
        "_cell_guid": "9cde6c7a-22ef-4c40-a1f9-c23aa3ccbb87",
        "_uuid": "806070772ca7bb192301cdc01dc60bb5b378c59a",
        "id": "Fsqbv9c6RGqP",
        "colab_type": "text"
      },
      "source": [
        "References\n",
        "https://www.kaggle.com/crawford/diagnose-lung-disease-with-vgg16\n",
        "https://www.programcreek.com/python/example/92213/keras.applications.vgg16.VGG16\n",
        "http://www.socouldanyone.com/2013/03/converting-grayscale-to-rgb-with-numpy.html"
      ]
    },
    {
      "cell_type": "markdown",
      "metadata": {
        "id": "ye2-X2kthFoS",
        "colab_type": "text"
      },
      "source": [
        "# Classify with nearest neighbor"
      ]
    },
    {
      "cell_type": "code",
      "metadata": {
        "id": "JBlrHwLhhODW",
        "colab_type": "code",
        "colab": {}
      },
      "source": [
        "#Import knearest neighbors Classifier model\n",
        "from sklearn.neighbors import KNeighborsClassifier\n",
        "\n",
        "#Create KNN Classifier\n",
        "knn = KNeighborsClassifier(n_neighbors=5)\n",
        "\n",
        "#Train the model using the training sets\n",
        "knn.fit(train_features_flat, train_label)\n",
        "\n",
        "#Predict the response for test dataset\n",
        "y_pred = knn.predict(val_features_flat)"
      ],
      "execution_count": 18,
      "outputs": []
    },
    {
      "cell_type": "code",
      "metadata": {
        "id": "U-HkSfXiixyu",
        "colab_type": "code",
        "colab": {
          "base_uri": "https://localhost:8080/",
          "height": 35
        },
        "outputId": "9c4337f1-0a13-47b9-e4f3-98bedd7f88a6"
      },
      "source": [
        "#Import scikit-learn metrics module for accuracy calculation\n",
        "from sklearn import metrics\n",
        "# Model Accuracy, how often is the classifier correct?\n",
        "print(\"Accuracy:\",metrics.accuracy_score(valid_label, y_pred))"
      ],
      "execution_count": 19,
      "outputs": [
        {
          "output_type": "stream",
          "text": [
            "Accuracy: 0.9913146466640348\n"
          ],
          "name": "stdout"
        }
      ]
    },
    {
      "cell_type": "code",
      "metadata": {
        "id": "BRxub_wqyrOa",
        "colab_type": "code",
        "colab": {
          "base_uri": "https://localhost:8080/",
          "height": 54
        },
        "outputId": "65325e4b-4174-465b-a82f-7d6138e61e37"
      },
      "source": [
        "cm = metrics.confusion_matrix(valid_label[:,0], y_pred[:,0])\n",
        "print(\"Classifier confusion matrix: \",cm)"
      ],
      "execution_count": 21,
      "outputs": [
        {
          "output_type": "stream",
          "text": [
            "Classifier confusion matrix:  [[1333   20]\n",
            " [   2 1178]]\n"
          ],
          "name": "stdout"
        }
      ]
    },
    {
      "cell_type": "code",
      "metadata": {
        "id": "VHCxsRBkoIDw",
        "colab_type": "code",
        "colab": {}
      },
      "source": [
        "import matplotlib.pyplot as plt\n",
        "def _plot_confusion_matrix(cm, classes,\n",
        "                          normalize=False,\n",
        "                          title='Confusion matrix',\n",
        "                          cmap=plt.cm.Greens):\n",
        "    from sklearn.metrics import accuracy_score\n",
        "    from sklearn.metrics import precision_score, recall_score, roc_auc_score, accuracy_score, roc_curve, auc, confusion_matrix\n",
        "    import itertools\n",
        "    \n",
        "\n",
        "    \"\"\"\n",
        "    This function prints and plots the confusion matrix.\n",
        "    Normalization can be applied by setting `normalize=True`.\n",
        "    \"\"\"\n",
        "    if normalize:\n",
        "        cm = cm.astype('float') / cm.sum(axis=1)[:, np.newaxis]\n",
        "\n",
        "    plt.imshow(cm, interpolation='nearest', cmap=cmap)\n",
        "    plt.title(title, fontsize = 14)\n",
        "    plt.colorbar()\n",
        "    tick_marks = np.arange(len(classes))\n",
        "    plt.xticks(tick_marks, classes)\n",
        "    plt.yticks(tick_marks, classes)\n",
        "\n",
        "    fmt = '.2f' if normalize else 'd'\n",
        "    thresh = cm.max() / 2.\n",
        "    for i, j in itertools.product(range(cm.shape[0]), range(cm.shape[1])):\n",
        "        plt.text(j, i, format(cm[i, j], fmt),\n",
        "                 horizontalalignment=\"center\",\n",
        "                 color=\"black\")\n",
        "\n",
        "    plt.ylabel('True Class', fontsize = 14)\n",
        "    plt.xlabel('Predicted Class', fontsize = 14)\n",
        "\n",
        "    plt.tick_params(axis='both', which='major', labelsize=14)\n",
        "    plt.tight_layout()"
      ],
      "execution_count": 22,
      "outputs": []
    },
    {
      "cell_type": "code",
      "metadata": {
        "id": "E0JoK8EmoPcf",
        "colab_type": "code",
        "colab": {
          "base_uri": "https://localhost:8080/",
          "height": 297
        },
        "outputId": "458fe899-8951-42f2-dbe2-efc8f12ec56e"
      },
      "source": [
        " _plot_confusion_matrix(cm, ['zero','one'])"
      ],
      "execution_count": 24,
      "outputs": [
        {
          "output_type": "display_data",
          "data": {
            "image/png": "[encoded data removed]",
            "text/plain": [
              "<Figure size 432x288 with 2 Axes>"
            ]
          },
          "metadata": {
            "tags": [],
            "needs_background": "light"
          }
        }
      ]
    },
    {
      "cell_type": "markdown",
      "metadata": {
        "id": "812iVKkNoy48",
        "colab_type": "text"
      },
      "source": [
        "# Plot results"
      ]
    },
    {
      "cell_type": "code",
      "metadata": {
        "id": "5z-jEACukbdb",
        "colab_type": "code",
        "colab": {
          "base_uri": "https://localhost:8080/",
          "height": 451
        },
        "outputId": "51bbf80b-fe9a-485b-bb77-ca85d52f8db9"
      },
      "source": [
        "import numpy as np\n",
        "import matplotlib.pyplot as plt\n",
        "from matplotlib.colors import ListedColormap\n",
        "from sklearn import neighbors, datasets\n",
        "\n",
        "n_neighbors = 5\n",
        "\n",
        "# import some data to play with\n",
        "iris = datasets.load_iris()\n",
        "\n",
        "# we only take the first two features. We could avoid this ugly\n",
        "# slicing by using a two-dim dataset\n",
        "X = train_features_flat[:, :2]\n",
        "y = train_label\n",
        "\n",
        "h = .02  # step size in the mesh\n",
        "\n",
        "# Create color maps\n",
        "cmap_light = ListedColormap(['orange',  'cornflowerblue'])\n",
        "cmap_bold = ListedColormap(['darkorange', 'darkblue'])\n",
        "\n",
        "for weights in ['uniform', 'distance']:\n",
        "    # we create an instance of Neighbours Classifier and fit the data.\n",
        "    clf = neighbors.KNeighborsClassifier(n_neighbors, weights=weights)\n",
        "    clf.fit(X, y)\n",
        "\n",
        "    # Plot the decision boundary. For that, we will assign a color to each\n",
        "    # point in the mesh [x_min, x_max]x[y_min, y_max].\n",
        "    x_min, x_max = X[:, 0].min() - 1, X[:, 0].max() + 1\n",
        "    y_min, y_max = X[:, 1].min() - 1, X[:, 1].max() + 1\n",
        "    xx, yy = np.meshgrid(np.arange(x_min, x_max, h),\n",
        "                         np.arange(y_min, y_max, h))\n",
        "    Z = clf.predict(np.c_[xx.ravel(), yy.ravel()])\n",
        "\n",
        "    # Put the result into a color plot\n",
        "    print(xx.shape)\n",
        "    print(yy.shape)\n",
        "    print(Z[:,0].shape)\n",
        "    Z = Z[:,0]\n",
        "    Z = Z.reshape(xx.shape)\n",
        "    \n",
        "    print(Z.shape)\n",
        "    plt.figure()\n",
        "    plt.pcolormesh(xx, yy, Z, cmap=cmap_light)\n",
        "\n",
        "    # # Plot also the training points\n",
        "    # plt.scatter(X[:, 0], X[:, 1], c=y, cmap=cmap_bold,\n",
        "    #             edgecolor='k', s=20)\n",
        "    # plt.xlim(xx.min(), xx.max())\n",
        "    # plt.ylim(yy.min(), yy.max())\n",
        "    # plt.title(\"3-Class classification (k = %i, weights = '%s')\"\n",
        "    #           % (n_neighbors, weights))\n",
        "\n",
        "plt.show()"
      ],
      "execution_count": null,
      "outputs": [
        {
          "output_type": "error",
          "ename": "ValueError",
          "evalue": "ignored",
          "traceback": [
            "\u001b[0;31m---------------------------------------------------------------------------\u001b[0m",
            "\u001b[0;31mValueError\u001b[0m                                Traceback (most recent call last)",
            "\u001b[0;32m<ipython-input-77-c664a879c725>\u001b[0m in \u001b[0;36m<module>\u001b[0;34m()\u001b[0m\n\u001b[1;32m     31\u001b[0m     xx, yy = np.meshgrid(np.arange(x_min, x_max, h),\n\u001b[1;32m     32\u001b[0m                          np.arange(y_min, y_max, h))\n\u001b[0;32m---> 33\u001b[0;31m     \u001b[0mZ\u001b[0m \u001b[0;34m=\u001b[0m \u001b[0mclf\u001b[0m\u001b[0;34m.\u001b[0m\u001b[0mpredict\u001b[0m\u001b[0;34m(\u001b[0m\u001b[0mnp\u001b[0m\u001b[0;34m.\u001b[0m\u001b[0mc_\u001b[0m\u001b[0;34m[\u001b[0m\u001b[0mxx\u001b[0m\u001b[0;34m.\u001b[0m\u001b[0mravel\u001b[0m\u001b[0;34m(\u001b[0m\u001b[0;34m)\u001b[0m\u001b[0;34m,\u001b[0m \u001b[0myy\u001b[0m\u001b[0;34m.\u001b[0m\u001b[0mravel\u001b[0m\u001b[0;34m(\u001b[0m\u001b[0;34m)\u001b[0m\u001b[0;34m]\u001b[0m\u001b[0;34m)\u001b[0m\u001b[0;34m\u001b[0m\u001b[0;34m\u001b[0m\u001b[0m\n\u001b[0m\u001b[1;32m     34\u001b[0m \u001b[0;34m\u001b[0m\u001b[0m\n\u001b[1;32m     35\u001b[0m     \u001b[0;31m# Put the result into a color plot\u001b[0m\u001b[0;34m\u001b[0m\u001b[0;34m\u001b[0m\u001b[0;34m\u001b[0m\u001b[0m\n",
            "\u001b[0;32m/usr/local/lib/python3.6/dist-packages/sklearn/neighbors/_classification.py\u001b[0m in \u001b[0;36mpredict\u001b[0;34m(self, X)\u001b[0m\n\u001b[1;32m    171\u001b[0m         \u001b[0mX\u001b[0m \u001b[0;34m=\u001b[0m \u001b[0mcheck_array\u001b[0m\u001b[0;34m(\u001b[0m\u001b[0mX\u001b[0m\u001b[0;34m,\u001b[0m \u001b[0maccept_sparse\u001b[0m\u001b[0;34m=\u001b[0m\u001b[0;34m'csr'\u001b[0m\u001b[0;34m)\u001b[0m\u001b[0;34m\u001b[0m\u001b[0;34m\u001b[0m\u001b[0m\n\u001b[1;32m    172\u001b[0m \u001b[0;34m\u001b[0m\u001b[0m\n\u001b[0;32m--> 173\u001b[0;31m         \u001b[0mneigh_dist\u001b[0m\u001b[0;34m,\u001b[0m \u001b[0mneigh_ind\u001b[0m \u001b[0;34m=\u001b[0m \u001b[0mself\u001b[0m\u001b[0;34m.\u001b[0m\u001b[0mkneighbors\u001b[0m\u001b[0;34m(\u001b[0m\u001b[0mX\u001b[0m\u001b[0;34m)\u001b[0m\u001b[0;34m\u001b[0m\u001b[0;34m\u001b[0m\u001b[0m\n\u001b[0m\u001b[1;32m    174\u001b[0m         \u001b[0mclasses_\u001b[0m \u001b[0;34m=\u001b[0m \u001b[0mself\u001b[0m\u001b[0;34m.\u001b[0m\u001b[0mclasses_\u001b[0m\u001b[0;34m\u001b[0m\u001b[0;34m\u001b[0m\u001b[0m\n\u001b[1;32m    175\u001b[0m         \u001b[0m_y\u001b[0m \u001b[0;34m=\u001b[0m \u001b[0mself\u001b[0m\u001b[0;34m.\u001b[0m\u001b[0m_y\u001b[0m\u001b[0;34m\u001b[0m\u001b[0;34m\u001b[0m\u001b[0m\n",
            "\u001b[0;32m/usr/local/lib/python3.6/dist-packages/sklearn/neighbors/_base.py\u001b[0m in \u001b[0;36mkneighbors\u001b[0;34m(self, X, n_neighbors, return_distance)\u001b[0m\n\u001b[1;32m    662\u001b[0m                 delayed_query(\n\u001b[1;32m    663\u001b[0m                     self._tree, X[s], n_neighbors, return_distance)\n\u001b[0;32m--> 664\u001b[0;31m                 \u001b[0;32mfor\u001b[0m \u001b[0ms\u001b[0m \u001b[0;32min\u001b[0m \u001b[0mgen_even_slices\u001b[0m\u001b[0;34m(\u001b[0m\u001b[0mX\u001b[0m\u001b[0;34m.\u001b[0m\u001b[0mshape\u001b[0m\u001b[0;34m[\u001b[0m\u001b[0;36m0\u001b[0m\u001b[0;34m]\u001b[0m\u001b[0;34m,\u001b[0m \u001b[0mn_jobs\u001b[0m\u001b[0;34m)\u001b[0m\u001b[0;34m\u001b[0m\u001b[0;34m\u001b[0m\u001b[0m\n\u001b[0m\u001b[1;32m    665\u001b[0m             )\n\u001b[1;32m    666\u001b[0m         \u001b[0;32melse\u001b[0m\u001b[0;34m:\u001b[0m\u001b[0;34m\u001b[0m\u001b[0;34m\u001b[0m\u001b[0m\n",
            "\u001b[0;32m/usr/local/lib/python3.6/dist-packages/joblib/parallel.py\u001b[0m in \u001b[0;36m__call__\u001b[0;34m(self, iterable)\u001b[0m\n\u001b[1;32m   1027\u001b[0m             \u001b[0;31m# remaining jobs.\u001b[0m\u001b[0;34m\u001b[0m\u001b[0;34m\u001b[0m\u001b[0;34m\u001b[0m\u001b[0m\n\u001b[1;32m   1028\u001b[0m             \u001b[0mself\u001b[0m\u001b[0;34m.\u001b[0m\u001b[0m_iterating\u001b[0m \u001b[0;34m=\u001b[0m \u001b[0;32mFalse\u001b[0m\u001b[0;34m\u001b[0m\u001b[0;34m\u001b[0m\u001b[0m\n\u001b[0;32m-> 1029\u001b[0;31m             \u001b[0;32mif\u001b[0m \u001b[0mself\u001b[0m\u001b[0;34m.\u001b[0m\u001b[0mdispatch_one_batch\u001b[0m\u001b[0;34m(\u001b[0m\u001b[0miterator\u001b[0m\u001b[0;34m)\u001b[0m\u001b[0;34m:\u001b[0m\u001b[0;34m\u001b[0m\u001b[0;34m\u001b[0m\u001b[0m\n\u001b[0m\u001b[1;32m   1030\u001b[0m                 \u001b[0mself\u001b[0m\u001b[0;34m.\u001b[0m\u001b[0m_iterating\u001b[0m \u001b[0;34m=\u001b[0m \u001b[0mself\u001b[0m\u001b[0;34m.\u001b[0m\u001b[0m_original_iterator\u001b[0m \u001b[0;32mis\u001b[0m \u001b[0;32mnot\u001b[0m \u001b[0;32mNone\u001b[0m\u001b[0;34m\u001b[0m\u001b[0;34m\u001b[0m\u001b[0m\n\u001b[1;32m   1031\u001b[0m \u001b[0;34m\u001b[0m\u001b[0m\n",
            "\u001b[0;32m/usr/local/lib/python3.6/dist-packages/joblib/parallel.py\u001b[0m in \u001b[0;36mdispatch_one_batch\u001b[0;34m(self, iterator)\u001b[0m\n\u001b[1;32m    845\u001b[0m                 \u001b[0;32mreturn\u001b[0m \u001b[0;32mFalse\u001b[0m\u001b[0;34m\u001b[0m\u001b[0;34m\u001b[0m\u001b[0m\n\u001b[1;32m    846\u001b[0m             \u001b[0;32melse\u001b[0m\u001b[0;34m:\u001b[0m\u001b[0;34m\u001b[0m\u001b[0;34m\u001b[0m\u001b[0m\n\u001b[0;32m--> 847\u001b[0;31m                 \u001b[0mself\u001b[0m\u001b[0;34m.\u001b[0m\u001b[0m_dispatch\u001b[0m\u001b[0;34m(\u001b[0m\u001b[0mtasks\u001b[0m\u001b[0;34m)\u001b[0m\u001b[0;34m\u001b[0m\u001b[0;34m\u001b[0m\u001b[0m\n\u001b[0m\u001b[1;32m    848\u001b[0m                 \u001b[0;32mreturn\u001b[0m \u001b[0;32mTrue\u001b[0m\u001b[0;34m\u001b[0m\u001b[0;34m\u001b[0m\u001b[0m\n\u001b[1;32m    849\u001b[0m \u001b[0;34m\u001b[0m\u001b[0m\n",
            "\u001b[0;32m/usr/local/lib/python3.6/dist-packages/joblib/parallel.py\u001b[0m in \u001b[0;36m_dispatch\u001b[0;34m(self, batch)\u001b[0m\n\u001b[1;32m    763\u001b[0m         \u001b[0;32mwith\u001b[0m \u001b[0mself\u001b[0m\u001b[0;34m.\u001b[0m\u001b[0m_lock\u001b[0m\u001b[0;34m:\u001b[0m\u001b[0;34m\u001b[0m\u001b[0;34m\u001b[0m\u001b[0m\n\u001b[1;32m    764\u001b[0m             \u001b[0mjob_idx\u001b[0m \u001b[0;34m=\u001b[0m \u001b[0mlen\u001b[0m\u001b[0;34m(\u001b[0m\u001b[0mself\u001b[0m\u001b[0;34m.\u001b[0m\u001b[0m_jobs\u001b[0m\u001b[0;34m)\u001b[0m\u001b[0;34m\u001b[0m\u001b[0;34m\u001b[0m\u001b[0m\n\u001b[0;32m--> 765\u001b[0;31m             \u001b[0mjob\u001b[0m \u001b[0;34m=\u001b[0m \u001b[0mself\u001b[0m\u001b[0;34m.\u001b[0m\u001b[0m_backend\u001b[0m\u001b[0;34m.\u001b[0m\u001b[0mapply_async\u001b[0m\u001b[0;34m(\u001b[0m\u001b[0mbatch\u001b[0m\u001b[0;34m,\u001b[0m \u001b[0mcallback\u001b[0m\u001b[0;34m=\u001b[0m\u001b[0mcb\u001b[0m\u001b[0;34m)\u001b[0m\u001b[0;34m\u001b[0m\u001b[0;34m\u001b[0m\u001b[0m\n\u001b[0m\u001b[1;32m    766\u001b[0m             \u001b[0;31m# A job can complete so quickly than its callback is\u001b[0m\u001b[0;34m\u001b[0m\u001b[0;34m\u001b[0m\u001b[0;34m\u001b[0m\u001b[0m\n\u001b[1;32m    767\u001b[0m             \u001b[0;31m# called before we get here, causing self._jobs to\u001b[0m\u001b[0;34m\u001b[0m\u001b[0;34m\u001b[0m\u001b[0;34m\u001b[0m\u001b[0m\n",
            "\u001b[0;32m/usr/local/lib/python3.6/dist-packages/joblib/_parallel_backends.py\u001b[0m in \u001b[0;36mapply_async\u001b[0;34m(self, func, callback)\u001b[0m\n\u001b[1;32m    204\u001b[0m     \u001b[0;32mdef\u001b[0m \u001b[0mapply_async\u001b[0m\u001b[0;34m(\u001b[0m\u001b[0mself\u001b[0m\u001b[0;34m,\u001b[0m \u001b[0mfunc\u001b[0m\u001b[0;34m,\u001b[0m \u001b[0mcallback\u001b[0m\u001b[0;34m=\u001b[0m\u001b[0;32mNone\u001b[0m\u001b[0;34m)\u001b[0m\u001b[0;34m:\u001b[0m\u001b[0;34m\u001b[0m\u001b[0;34m\u001b[0m\u001b[0m\n\u001b[1;32m    205\u001b[0m         \u001b[0;34m\"\"\"Schedule a func to be run\"\"\"\u001b[0m\u001b[0;34m\u001b[0m\u001b[0;34m\u001b[0m\u001b[0m\n\u001b[0;32m--> 206\u001b[0;31m         \u001b[0mresult\u001b[0m \u001b[0;34m=\u001b[0m \u001b[0mImmediateResult\u001b[0m\u001b[0;34m(\u001b[0m\u001b[0mfunc\u001b[0m\u001b[0;34m)\u001b[0m\u001b[0;34m\u001b[0m\u001b[0;34m\u001b[0m\u001b[0m\n\u001b[0m\u001b[1;32m    207\u001b[0m         \u001b[0;32mif\u001b[0m \u001b[0mcallback\u001b[0m\u001b[0;34m:\u001b[0m\u001b[0;34m\u001b[0m\u001b[0;34m\u001b[0m\u001b[0m\n\u001b[1;32m    208\u001b[0m             \u001b[0mcallback\u001b[0m\u001b[0;34m(\u001b[0m\u001b[0mresult\u001b[0m\u001b[0;34m)\u001b[0m\u001b[0;34m\u001b[0m\u001b[0;34m\u001b[0m\u001b[0m\n",
            "\u001b[0;32m/usr/local/lib/python3.6/dist-packages/joblib/_parallel_backends.py\u001b[0m in \u001b[0;36m__init__\u001b[0;34m(self, batch)\u001b[0m\n\u001b[1;32m    568\u001b[0m         \u001b[0;31m# Don't delay the application, to avoid keeping the input\u001b[0m\u001b[0;34m\u001b[0m\u001b[0;34m\u001b[0m\u001b[0;34m\u001b[0m\u001b[0m\n\u001b[1;32m    569\u001b[0m         \u001b[0;31m# arguments in memory\u001b[0m\u001b[0;34m\u001b[0m\u001b[0;34m\u001b[0m\u001b[0;34m\u001b[0m\u001b[0m\n\u001b[0;32m--> 570\u001b[0;31m         \u001b[0mself\u001b[0m\u001b[0;34m.\u001b[0m\u001b[0mresults\u001b[0m \u001b[0;34m=\u001b[0m \u001b[0mbatch\u001b[0m\u001b[0;34m(\u001b[0m\u001b[0;34m)\u001b[0m\u001b[0;34m\u001b[0m\u001b[0;34m\u001b[0m\u001b[0m\n\u001b[0m\u001b[1;32m    571\u001b[0m \u001b[0;34m\u001b[0m\u001b[0m\n\u001b[1;32m    572\u001b[0m     \u001b[0;32mdef\u001b[0m \u001b[0mget\u001b[0m\u001b[0;34m(\u001b[0m\u001b[0mself\u001b[0m\u001b[0;34m)\u001b[0m\u001b[0;34m:\u001b[0m\u001b[0;34m\u001b[0m\u001b[0;34m\u001b[0m\u001b[0m\n",
            "\u001b[0;32m/usr/local/lib/python3.6/dist-packages/joblib/parallel.py\u001b[0m in \u001b[0;36m__call__\u001b[0;34m(self)\u001b[0m\n\u001b[1;32m    251\u001b[0m         \u001b[0;32mwith\u001b[0m \u001b[0mparallel_backend\u001b[0m\u001b[0;34m(\u001b[0m\u001b[0mself\u001b[0m\u001b[0;34m.\u001b[0m\u001b[0m_backend\u001b[0m\u001b[0;34m,\u001b[0m \u001b[0mn_jobs\u001b[0m\u001b[0;34m=\u001b[0m\u001b[0mself\u001b[0m\u001b[0;34m.\u001b[0m\u001b[0m_n_jobs\u001b[0m\u001b[0;34m)\u001b[0m\u001b[0;34m:\u001b[0m\u001b[0;34m\u001b[0m\u001b[0;34m\u001b[0m\u001b[0m\n\u001b[1;32m    252\u001b[0m             return [func(*args, **kwargs)\n\u001b[0;32m--> 253\u001b[0;31m                     for func, args, kwargs in self.items]\n\u001b[0m\u001b[1;32m    254\u001b[0m \u001b[0;34m\u001b[0m\u001b[0m\n\u001b[1;32m    255\u001b[0m     \u001b[0;32mdef\u001b[0m \u001b[0m__reduce__\u001b[0m\u001b[0;34m(\u001b[0m\u001b[0mself\u001b[0m\u001b[0;34m)\u001b[0m\u001b[0;34m:\u001b[0m\u001b[0;34m\u001b[0m\u001b[0;34m\u001b[0m\u001b[0m\n",
            "\u001b[0;32m/usr/local/lib/python3.6/dist-packages/joblib/parallel.py\u001b[0m in \u001b[0;36m<listcomp>\u001b[0;34m(.0)\u001b[0m\n\u001b[1;32m    251\u001b[0m         \u001b[0;32mwith\u001b[0m \u001b[0mparallel_backend\u001b[0m\u001b[0;34m(\u001b[0m\u001b[0mself\u001b[0m\u001b[0;34m.\u001b[0m\u001b[0m_backend\u001b[0m\u001b[0;34m,\u001b[0m \u001b[0mn_jobs\u001b[0m\u001b[0;34m=\u001b[0m\u001b[0mself\u001b[0m\u001b[0;34m.\u001b[0m\u001b[0m_n_jobs\u001b[0m\u001b[0;34m)\u001b[0m\u001b[0;34m:\u001b[0m\u001b[0;34m\u001b[0m\u001b[0;34m\u001b[0m\u001b[0m\n\u001b[1;32m    252\u001b[0m             return [func(*args, **kwargs)\n\u001b[0;32m--> 253\u001b[0;31m                     for func, args, kwargs in self.items]\n\u001b[0m\u001b[1;32m    254\u001b[0m \u001b[0;34m\u001b[0m\u001b[0m\n\u001b[1;32m    255\u001b[0m     \u001b[0;32mdef\u001b[0m \u001b[0m__reduce__\u001b[0m\u001b[0;34m(\u001b[0m\u001b[0mself\u001b[0m\u001b[0;34m)\u001b[0m\u001b[0;34m:\u001b[0m\u001b[0;34m\u001b[0m\u001b[0;34m\u001b[0m\u001b[0m\n",
            "\u001b[0;32m/usr/local/lib/python3.6/dist-packages/sklearn/neighbors/_base.py\u001b[0m in \u001b[0;36m_tree_query_parallel_helper\u001b[0;34m(tree, *args, **kwargs)\u001b[0m\n\u001b[1;32m    489\u001b[0m     \u001b[0munder\u001b[0m \u001b[0mPyPy\u001b[0m\u001b[0;34m.\u001b[0m\u001b[0;34m\u001b[0m\u001b[0;34m\u001b[0m\u001b[0m\n\u001b[1;32m    490\u001b[0m     \"\"\"\n\u001b[0;32m--> 491\u001b[0;31m     \u001b[0;32mreturn\u001b[0m \u001b[0mtree\u001b[0m\u001b[0;34m.\u001b[0m\u001b[0mquery\u001b[0m\u001b[0;34m(\u001b[0m\u001b[0;34m*\u001b[0m\u001b[0margs\u001b[0m\u001b[0;34m,\u001b[0m \u001b[0;34m**\u001b[0m\u001b[0mkwargs\u001b[0m\u001b[0;34m)\u001b[0m\u001b[0;34m\u001b[0m\u001b[0;34m\u001b[0m\u001b[0m\n\u001b[0m\u001b[1;32m    492\u001b[0m \u001b[0;34m\u001b[0m\u001b[0m\n\u001b[1;32m    493\u001b[0m \u001b[0;34m\u001b[0m\u001b[0m\n",
            "\u001b[0;32msklearn/neighbors/_binary_tree.pxi\u001b[0m in \u001b[0;36msklearn.neighbors._kd_tree.BinaryTree.query\u001b[0;34m()\u001b[0m\n",
            "\u001b[0;31mValueError\u001b[0m: query data dimension must match training data dimension"
          ]
        }
      ]
    },
    {
      "cell_type": "code",
      "metadata": {
        "id": "aadOnE8NwtcY",
        "colab_type": "code",
        "colab": {
          "base_uri": "https://localhost:8080/",
          "height": 658
        },
        "outputId": "098059cc-b0f8-446a-bce3-70dca8db1834"
      },
      "source": [
        "\n",
        "import numpy as np\n",
        "import matplotlib.pyplot as plt\n",
        "from matplotlib.colors import ListedColormap\n",
        "from sklearn import neighbors, datasets\n",
        "\n",
        "n_neighbors = 15\n",
        "\n",
        "# import some data to play with\n",
        "iris = datasets.load_iris()\n",
        "\n",
        "# we only take the first two features. We could avoid this ugly\n",
        "# slicing by using a two-dim dataset\n",
        "X = iris.data[:, :2]\n",
        "y = iris.target\n",
        "\n",
        "h = .02  # step size in the mesh\n",
        "\n",
        "# Create color maps\n",
        "cmap_light = ListedColormap(['orange', 'cyan', 'cornflowerblue'])\n",
        "cmap_bold = ListedColormap(['darkorange', 'c', 'darkblue'])\n",
        "\n",
        "for weights in ['uniform', 'distance']:\n",
        "    # we create an instance of Neighbours Classifier and fit the data.\n",
        "    clf = neighbors.KNeighborsClassifier(n_neighbors, weights=weights)\n",
        "    clf.fit(X, y)\n",
        "\n",
        "    # Plot the decision boundary. For that, we will assign a color to each\n",
        "    # point in the mesh [x_min, x_max]x[y_min, y_max].\n",
        "    x_min, x_max = X[:, 0].min() - 1, X[:, 0].max() + 1\n",
        "    y_min, y_max = X[:, 1].min() - 1, X[:, 1].max() + 1\n",
        "    xx, yy = np.meshgrid(np.arange(x_min, x_max, h),\n",
        "                         np.arange(y_min, y_max, h))\n",
        "    Z = clf.predict(np.c_[xx.ravel(), yy.ravel()])\n",
        "\n",
        "    # Put the result into a color plot\n",
        "    print(xx.shape)\n",
        "    print(yy.shape)\n",
        "    print(Z.shape)\n",
        "    Z = Z.reshape(xx.shape)\n",
        "    print(Z.shape)\n",
        "    plt.figure()\n",
        "    plt.pcolormesh(xx, yy, Z, cmap=cmap_light)\n",
        "\n",
        "    # # Plot also the training points\n",
        "    # plt.scatter(X[:, 0], X[:, 1], c=y, cmap=cmap_bold,\n",
        "    #             edgecolor='k', s=20)\n",
        "    # plt.xlim(xx.min(), xx.max())\n",
        "    # plt.ylim(yy.min(), yy.max())\n",
        "    # plt.title(\"3-Class classification (k = %i, weights = '%s')\"\n",
        "    #           % (n_neighbors, weights))\n",
        "\n",
        "plt.show()"
      ],
      "execution_count": null,
      "outputs": [
        {
          "output_type": "stream",
          "text": [
            "(220, 280)\n",
            "(220, 280)\n",
            "(61600,)\n",
            "(220, 280)\n",
            "(220, 280)\n",
            "(220, 280)\n",
            "(61600,)\n",
            "(220, 280)\n"
          ],
          "name": "stdout"
        },
        {
          "output_type": "display_data",
          "data": {
            "image/png": "[encoded data removed]",
            "text/plain": [
              "<Figure size 432x288 with 1 Axes>"
            ]
          },
          "metadata": {
            "tags": [],
            "needs_background": "light"
          }
        },
        {
          "output_type": "display_data",
          "data": {
            "image/png": "[encoded data removed]",
            "text/plain": [
              "<Figure size 432x288 with 1 Axes>"
            ]
          },
          "metadata": {
            "tags": [],
            "needs_background": "light"
          }
        }
      ]
    }
  ]
}